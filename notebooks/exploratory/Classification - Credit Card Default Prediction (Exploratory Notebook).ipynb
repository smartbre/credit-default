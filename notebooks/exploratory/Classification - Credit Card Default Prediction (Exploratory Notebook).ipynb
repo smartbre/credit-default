{
 "cells": [
  {
   "cell_type": "code",
   "execution_count": 223,
   "metadata": {},
   "outputs": [],
   "source": [
    "# Import standard packages\n",
    "import pandas as pd\n",
    "import numpy as np\n",
    "import matplotlib.pyplot as plt\n",
    "import seaborn as sns\n",
    "\n",
    "%matplotlib inline\n",
    "sns.set_context(\"notebook\", font_scale=.6)\n"
   ]
  },
  {
   "cell_type": "code",
   "execution_count": 224,
   "metadata": {},
   "outputs": [
    {
     "data": {
      "text/html": [
       "<div>\n",
       "<style scoped>\n",
       "    .dataframe tbody tr th:only-of-type {\n",
       "        vertical-align: middle;\n",
       "    }\n",
       "\n",
       "    .dataframe tbody tr th {\n",
       "        vertical-align: top;\n",
       "    }\n",
       "\n",
       "    .dataframe thead th {\n",
       "        text-align: right;\n",
       "    }\n",
       "</style>\n",
       "<table border=\"1\" class=\"dataframe\">\n",
       "  <thead>\n",
       "    <tr style=\"text-align: right;\">\n",
       "      <th></th>\n",
       "      <th>X1</th>\n",
       "      <th>X2</th>\n",
       "      <th>X3</th>\n",
       "      <th>X4</th>\n",
       "      <th>X5</th>\n",
       "      <th>X6</th>\n",
       "      <th>X7</th>\n",
       "      <th>X8</th>\n",
       "      <th>X9</th>\n",
       "      <th>X10</th>\n",
       "      <th>...</th>\n",
       "      <th>X15</th>\n",
       "      <th>X16</th>\n",
       "      <th>X17</th>\n",
       "      <th>X18</th>\n",
       "      <th>X19</th>\n",
       "      <th>X20</th>\n",
       "      <th>X21</th>\n",
       "      <th>X22</th>\n",
       "      <th>X23</th>\n",
       "      <th>Y</th>\n",
       "    </tr>\n",
       "  </thead>\n",
       "  <tbody>\n",
       "    <tr>\n",
       "      <th>0</th>\n",
       "      <td>LIMIT_BAL</td>\n",
       "      <td>SEX</td>\n",
       "      <td>EDUCATION</td>\n",
       "      <td>MARRIAGE</td>\n",
       "      <td>AGE</td>\n",
       "      <td>PAY_0</td>\n",
       "      <td>PAY_2</td>\n",
       "      <td>PAY_3</td>\n",
       "      <td>PAY_4</td>\n",
       "      <td>PAY_5</td>\n",
       "      <td>...</td>\n",
       "      <td>BILL_AMT4</td>\n",
       "      <td>BILL_AMT5</td>\n",
       "      <td>BILL_AMT6</td>\n",
       "      <td>PAY_AMT1</td>\n",
       "      <td>PAY_AMT2</td>\n",
       "      <td>PAY_AMT3</td>\n",
       "      <td>PAY_AMT4</td>\n",
       "      <td>PAY_AMT5</td>\n",
       "      <td>PAY_AMT6</td>\n",
       "      <td>default payment next month</td>\n",
       "    </tr>\n",
       "    <tr>\n",
       "      <th>1</th>\n",
       "      <td>20000</td>\n",
       "      <td>2</td>\n",
       "      <td>2</td>\n",
       "      <td>1</td>\n",
       "      <td>24</td>\n",
       "      <td>2</td>\n",
       "      <td>2</td>\n",
       "      <td>-1</td>\n",
       "      <td>-1</td>\n",
       "      <td>-2</td>\n",
       "      <td>...</td>\n",
       "      <td>0</td>\n",
       "      <td>0</td>\n",
       "      <td>0</td>\n",
       "      <td>0</td>\n",
       "      <td>689</td>\n",
       "      <td>0</td>\n",
       "      <td>0</td>\n",
       "      <td>0</td>\n",
       "      <td>0</td>\n",
       "      <td>1</td>\n",
       "    </tr>\n",
       "    <tr>\n",
       "      <th>2</th>\n",
       "      <td>120000</td>\n",
       "      <td>2</td>\n",
       "      <td>2</td>\n",
       "      <td>2</td>\n",
       "      <td>26</td>\n",
       "      <td>-1</td>\n",
       "      <td>2</td>\n",
       "      <td>0</td>\n",
       "      <td>0</td>\n",
       "      <td>0</td>\n",
       "      <td>...</td>\n",
       "      <td>3272</td>\n",
       "      <td>3455</td>\n",
       "      <td>3261</td>\n",
       "      <td>0</td>\n",
       "      <td>1000</td>\n",
       "      <td>1000</td>\n",
       "      <td>1000</td>\n",
       "      <td>0</td>\n",
       "      <td>2000</td>\n",
       "      <td>1</td>\n",
       "    </tr>\n",
       "    <tr>\n",
       "      <th>3</th>\n",
       "      <td>90000</td>\n",
       "      <td>2</td>\n",
       "      <td>2</td>\n",
       "      <td>2</td>\n",
       "      <td>34</td>\n",
       "      <td>0</td>\n",
       "      <td>0</td>\n",
       "      <td>0</td>\n",
       "      <td>0</td>\n",
       "      <td>0</td>\n",
       "      <td>...</td>\n",
       "      <td>14331</td>\n",
       "      <td>14948</td>\n",
       "      <td>15549</td>\n",
       "      <td>1518</td>\n",
       "      <td>1500</td>\n",
       "      <td>1000</td>\n",
       "      <td>1000</td>\n",
       "      <td>1000</td>\n",
       "      <td>5000</td>\n",
       "      <td>0</td>\n",
       "    </tr>\n",
       "    <tr>\n",
       "      <th>4</th>\n",
       "      <td>50000</td>\n",
       "      <td>2</td>\n",
       "      <td>2</td>\n",
       "      <td>1</td>\n",
       "      <td>37</td>\n",
       "      <td>0</td>\n",
       "      <td>0</td>\n",
       "      <td>0</td>\n",
       "      <td>0</td>\n",
       "      <td>0</td>\n",
       "      <td>...</td>\n",
       "      <td>28314</td>\n",
       "      <td>28959</td>\n",
       "      <td>29547</td>\n",
       "      <td>2000</td>\n",
       "      <td>2019</td>\n",
       "      <td>1200</td>\n",
       "      <td>1100</td>\n",
       "      <td>1069</td>\n",
       "      <td>1000</td>\n",
       "      <td>0</td>\n",
       "    </tr>\n",
       "  </tbody>\n",
       "</table>\n",
       "<p>5 rows × 24 columns</p>\n",
       "</div>"
      ],
      "text/plain": [
       "          X1   X2         X3        X4   X5     X6     X7     X8     X9  \\\n",
       "0  LIMIT_BAL  SEX  EDUCATION  MARRIAGE  AGE  PAY_0  PAY_2  PAY_3  PAY_4   \n",
       "1      20000    2          2         1   24      2      2     -1     -1   \n",
       "2     120000    2          2         2   26     -1      2      0      0   \n",
       "3      90000    2          2         2   34      0      0      0      0   \n",
       "4      50000    2          2         1   37      0      0      0      0   \n",
       "\n",
       "     X10  ...        X15        X16        X17       X18       X19       X20  \\\n",
       "0  PAY_5  ...  BILL_AMT4  BILL_AMT5  BILL_AMT6  PAY_AMT1  PAY_AMT2  PAY_AMT3   \n",
       "1     -2  ...          0          0          0         0       689         0   \n",
       "2      0  ...       3272       3455       3261         0      1000      1000   \n",
       "3      0  ...      14331      14948      15549      1518      1500      1000   \n",
       "4      0  ...      28314      28959      29547      2000      2019      1200   \n",
       "\n",
       "        X21       X22       X23                           Y  \n",
       "0  PAY_AMT4  PAY_AMT5  PAY_AMT6  default payment next month  \n",
       "1         0         0         0                           1  \n",
       "2      1000         0      2000                           1  \n",
       "3      1000      1000      5000                           0  \n",
       "4      1100      1069      1000                           0  \n",
       "\n",
       "[5 rows x 24 columns]"
      ]
     },
     "execution_count": 224,
     "metadata": {},
     "output_type": "execute_result"
    }
   ],
   "source": [
    "# Importing and previewing data set. \n",
    "df = pd.read_excel('data/credit_default.xls',index_col=0)\n",
    "df.reset_index(drop=True, inplace=True)\n",
    "df.head()"
   ]
  },
  {
   "cell_type": "code",
   "execution_count": 225,
   "metadata": {},
   "outputs": [],
   "source": [
    "# Renaming colomns appropriately.\n",
    "\n",
    "col_names = df.iloc[0]\n",
    "df = df[1:]\n",
    "df.columns = col_names\n",
    "\n",
    "col_details = {'PAY_0':'SEP_PAYMENT_STATUS',\n",
    "               'PAY_2':'AUG_PAYMENT_STATUS',\n",
    "               'PAY_3':'JUL_PAYMENT_STATUS',\n",
    "               'PAY_4':'JUN_PAYMENT_STATUS',\n",
    "               'PAY_5':'MAY_PAYMENT_STATUS',\n",
    "               'PAY_6':'APR_PAYMENT_STATUS',\n",
    "               'BILL_AMT1':'SEP_BILL',\n",
    "               'BILL_AMT2':'AUG_BILL',\n",
    "               'BILL_AMT3':'JUL_BILL',\n",
    "               'BILL_AMT4':'JUN_BILL',\n",
    "               'BILL_AMT5':'MAY_BILL',\n",
    "               'BILL_AMT6':'APR_BILL',\n",
    "               'PAY_AMT1':'SEP_PAYMENT',\n",
    "               'PAY_AMT2':'AUG_PAYMENT',\n",
    "               'PAY_AMT3':'JUL_PAYMENT',\n",
    "               'PAY_AMT4':'JUN_PAYMENT',\n",
    "               'PAY_AMT5':'MAY_PAYMENT',\n",
    "               'PAY_AMT6':'APR_PAYMENT',\n",
    "               'default payment next month':'DEFAULT_NEXT_MONTH'\n",
    "              }\n",
    "df.rename(columns=col_details, inplace=True)\n",
    "\n",
    "df = df.apply(pd.to_numeric)\n",
    "\n",
    "# For presentation\n",
    "df_decoded = df\n",
    "users = len(df_decoded)"
   ]
  },
  {
   "cell_type": "code",
   "execution_count": 226,
   "metadata": {},
   "outputs": [],
   "source": [
    "df_decoded.loc[(df['SEP_PAYMENT_STATUS'] == -2)\n",
    "       & (df['AUG_PAYMENT_STATUS'] == -2)\n",
    "       & (df['JUL_PAYMENT_STATUS'] == -2)\n",
    "       & (df['JUN_PAYMENT_STATUS'] == -2)\n",
    "       & (df['MAY_PAYMENT_STATUS'] == -2)\n",
    "       & (df['APR_PAYMENT_STATUS'] == -2), \n",
    "       'CUSTOMER_ENGAGEMENT'] = 'Inactive'\n",
    "\n",
    "df.CUSTOMER_ENGAGEMENT = df.CUSTOMER_ENGAGEMENT.fillna(\"Active\")"
   ]
  },
  {
   "cell_type": "code",
   "execution_count": 227,
   "metadata": {},
   "outputs": [],
   "source": [
    "bins = [20, 30, 40, 50, 60, 70, 80]\n",
    "labels = ['21-30','31-40','41-50','51-60','61-70','71-80']\n",
    "df['AGE_BINNED'] = pd.cut(x=df['AGE'], bins=bins, labels=labels, right=True)"
   ]
  },
  {
   "cell_type": "code",
   "execution_count": 144,
   "metadata": {
    "scrolled": true
   },
   "outputs": [
    {
     "data": {
      "text/html": [
       "<div>\n",
       "<style scoped>\n",
       "    .dataframe tbody tr th:only-of-type {\n",
       "        vertical-align: middle;\n",
       "    }\n",
       "\n",
       "    .dataframe tbody tr th {\n",
       "        vertical-align: top;\n",
       "    }\n",
       "\n",
       "    .dataframe thead th {\n",
       "        text-align: right;\n",
       "    }\n",
       "</style>\n",
       "<table border=\"1\" class=\"dataframe\">\n",
       "  <thead>\n",
       "    <tr style=\"text-align: right;\">\n",
       "      <th></th>\n",
       "      <th>LIMIT_BAL</th>\n",
       "      <th>SEX</th>\n",
       "      <th>EDUCATION</th>\n",
       "      <th>MARRIAGE</th>\n",
       "      <th>AGE</th>\n",
       "      <th>SEP_PAYMENT_STATUS</th>\n",
       "      <th>AUG_PAYMENT_STATUS</th>\n",
       "      <th>JUL_PAYMENT_STATUS</th>\n",
       "      <th>JUN_PAYMENT_STATUS</th>\n",
       "      <th>MAY_PAYMENT_STATUS</th>\n",
       "      <th>...</th>\n",
       "      <th>APR_BILL</th>\n",
       "      <th>SEP_PAYMENT</th>\n",
       "      <th>AUG_PAYMENT</th>\n",
       "      <th>JUL_PAYMENT</th>\n",
       "      <th>JUN_PAYMENT</th>\n",
       "      <th>MAY_PAYMENT</th>\n",
       "      <th>APR_PAYMENT</th>\n",
       "      <th>DEFAULT_NEXT_MONTH</th>\n",
       "      <th>CUSTOMER_ENGAGEMENT</th>\n",
       "      <th>AGE_BINNED</th>\n",
       "    </tr>\n",
       "  </thead>\n",
       "  <tbody>\n",
       "    <tr>\n",
       "      <th>1</th>\n",
       "      <td>20000</td>\n",
       "      <td>2</td>\n",
       "      <td>2</td>\n",
       "      <td>1</td>\n",
       "      <td>24</td>\n",
       "      <td>2</td>\n",
       "      <td>2</td>\n",
       "      <td>-1</td>\n",
       "      <td>-1</td>\n",
       "      <td>-2</td>\n",
       "      <td>...</td>\n",
       "      <td>0</td>\n",
       "      <td>0</td>\n",
       "      <td>689</td>\n",
       "      <td>0</td>\n",
       "      <td>0</td>\n",
       "      <td>0</td>\n",
       "      <td>0</td>\n",
       "      <td>1</td>\n",
       "      <td>Active</td>\n",
       "      <td>21-30</td>\n",
       "    </tr>\n",
       "    <tr>\n",
       "      <th>2</th>\n",
       "      <td>120000</td>\n",
       "      <td>2</td>\n",
       "      <td>2</td>\n",
       "      <td>2</td>\n",
       "      <td>26</td>\n",
       "      <td>-1</td>\n",
       "      <td>2</td>\n",
       "      <td>0</td>\n",
       "      <td>0</td>\n",
       "      <td>0</td>\n",
       "      <td>...</td>\n",
       "      <td>3261</td>\n",
       "      <td>0</td>\n",
       "      <td>1000</td>\n",
       "      <td>1000</td>\n",
       "      <td>1000</td>\n",
       "      <td>0</td>\n",
       "      <td>2000</td>\n",
       "      <td>1</td>\n",
       "      <td>Active</td>\n",
       "      <td>21-30</td>\n",
       "    </tr>\n",
       "    <tr>\n",
       "      <th>3</th>\n",
       "      <td>90000</td>\n",
       "      <td>2</td>\n",
       "      <td>2</td>\n",
       "      <td>2</td>\n",
       "      <td>34</td>\n",
       "      <td>0</td>\n",
       "      <td>0</td>\n",
       "      <td>0</td>\n",
       "      <td>0</td>\n",
       "      <td>0</td>\n",
       "      <td>...</td>\n",
       "      <td>15549</td>\n",
       "      <td>1518</td>\n",
       "      <td>1500</td>\n",
       "      <td>1000</td>\n",
       "      <td>1000</td>\n",
       "      <td>1000</td>\n",
       "      <td>5000</td>\n",
       "      <td>0</td>\n",
       "      <td>Active</td>\n",
       "      <td>31-40</td>\n",
       "    </tr>\n",
       "    <tr>\n",
       "      <th>4</th>\n",
       "      <td>50000</td>\n",
       "      <td>2</td>\n",
       "      <td>2</td>\n",
       "      <td>1</td>\n",
       "      <td>37</td>\n",
       "      <td>0</td>\n",
       "      <td>0</td>\n",
       "      <td>0</td>\n",
       "      <td>0</td>\n",
       "      <td>0</td>\n",
       "      <td>...</td>\n",
       "      <td>29547</td>\n",
       "      <td>2000</td>\n",
       "      <td>2019</td>\n",
       "      <td>1200</td>\n",
       "      <td>1100</td>\n",
       "      <td>1069</td>\n",
       "      <td>1000</td>\n",
       "      <td>0</td>\n",
       "      <td>Active</td>\n",
       "      <td>31-40</td>\n",
       "    </tr>\n",
       "    <tr>\n",
       "      <th>5</th>\n",
       "      <td>50000</td>\n",
       "      <td>1</td>\n",
       "      <td>2</td>\n",
       "      <td>1</td>\n",
       "      <td>57</td>\n",
       "      <td>-1</td>\n",
       "      <td>0</td>\n",
       "      <td>-1</td>\n",
       "      <td>0</td>\n",
       "      <td>0</td>\n",
       "      <td>...</td>\n",
       "      <td>19131</td>\n",
       "      <td>2000</td>\n",
       "      <td>36681</td>\n",
       "      <td>10000</td>\n",
       "      <td>9000</td>\n",
       "      <td>689</td>\n",
       "      <td>679</td>\n",
       "      <td>0</td>\n",
       "      <td>Active</td>\n",
       "      <td>51-60</td>\n",
       "    </tr>\n",
       "  </tbody>\n",
       "</table>\n",
       "<p>5 rows × 26 columns</p>\n",
       "</div>"
      ],
      "text/plain": [
       "0  LIMIT_BAL  SEX  EDUCATION  MARRIAGE  AGE  SEP_PAYMENT_STATUS  \\\n",
       "1      20000    2          2         1   24                   2   \n",
       "2     120000    2          2         2   26                  -1   \n",
       "3      90000    2          2         2   34                   0   \n",
       "4      50000    2          2         1   37                   0   \n",
       "5      50000    1          2         1   57                  -1   \n",
       "\n",
       "0  AUG_PAYMENT_STATUS  JUL_PAYMENT_STATUS  JUN_PAYMENT_STATUS  \\\n",
       "1                   2                  -1                  -1   \n",
       "2                   2                   0                   0   \n",
       "3                   0                   0                   0   \n",
       "4                   0                   0                   0   \n",
       "5                   0                  -1                   0   \n",
       "\n",
       "0  MAY_PAYMENT_STATUS  ...  APR_BILL  SEP_PAYMENT  AUG_PAYMENT  JUL_PAYMENT  \\\n",
       "1                  -2  ...         0            0          689            0   \n",
       "2                   0  ...      3261            0         1000         1000   \n",
       "3                   0  ...     15549         1518         1500         1000   \n",
       "4                   0  ...     29547         2000         2019         1200   \n",
       "5                   0  ...     19131         2000        36681        10000   \n",
       "\n",
       "0  JUN_PAYMENT  MAY_PAYMENT  APR_PAYMENT  DEFAULT_NEXT_MONTH  \\\n",
       "1            0            0            0                   1   \n",
       "2         1000            0         2000                   1   \n",
       "3         1000         1000         5000                   0   \n",
       "4         1100         1069         1000                   0   \n",
       "5         9000          689          679                   0   \n",
       "\n",
       "0  CUSTOMER_ENGAGEMENT  AGE_BINNED  \n",
       "1               Active       21-30  \n",
       "2               Active       21-30  \n",
       "3               Active       31-40  \n",
       "4               Active       31-40  \n",
       "5               Active       51-60  \n",
       "\n",
       "[5 rows x 26 columns]"
      ]
     },
     "execution_count": 144,
     "metadata": {},
     "output_type": "execute_result"
    }
   ],
   "source": [
    "df_decoded.head()"
   ]
  },
  {
   "cell_type": "code",
   "execution_count": 229,
   "metadata": {},
   "outputs": [],
   "source": [
    "df_decoded['SEX'].replace([1,2],['Male','Female'],inplace=True)\n",
    "df_decoded['EDUCATION'].replace([1,2,3,0,4,5,6],['Graduate School','College',\n",
    "                                               'High School','Other','Other',\n",
    "                                               'Other','Other'],inplace=True)\n",
    "df_decoded['MARRIAGE'].replace([1,2,3,0],['Married','Single','Divorved','Other']\n",
    "                               ,inplace=True)\n",
    "df_decoded['DEFAULT_NEXT_MONTH'].replace([0,1],['No','Yes'],inplace=True)\n",
    "\n",
    "df_decoded['SEP_PAYMENT_STATUS'].replace([-2,-1,0,1,2,3,4,5,6,7,8,9],\n",
    "                    ['No Consumption','Paid in Full',\n",
    "                     'Used Revolving Credit', '1 Month Payment Delay',\n",
    "                     '2 Month Payment Delay', '3 Month Payment Delay',\n",
    "                     '4 Month Payment Delay', '5 Month Payment Delay',\n",
    "                     '6 Month Payment Delay', '7 Month Payment Delay',\n",
    "                     '8 Month Payment Delay',\n",
    "                     'Payment Delay of 9 Months or More'],inplace=True)\n",
    "df_decoded['AUG_PAYMENT_STATUS'].replace([-2,-1,0,1,2,3,4,5,6,7,8,9],\n",
    "                    ['No Consumption','Paid in Full',\n",
    "                     'Used Revolving Credit', '1 Month Payment Delay',\n",
    "                     '2 Month Payment Delay', '3 Month Payment Delay',\n",
    "                     '4 Month Payment Delay', '5 Month Payment Delay',\n",
    "                     '6 Month Payment Delay', '7 Month Payment Delay',\n",
    "                     '8 Month Payment Delay',\n",
    "                     'Payment Delay of 9 Months or More'],inplace=True)\n",
    "df_decoded['JUL_PAYMENT_STATUS'].replace([-2,-1,0,1,2,3,4,5,6,7,8,9],\n",
    "                    ['No Consumption','Paid in Full',\n",
    "                     'Used Revolving Credit', '1 Month Payment Delay',\n",
    "                     '2 Month Payment Delay', '3 Month Payment Delay',\n",
    "                     '4 Month Payment Delay', '5 Month Payment Delay',\n",
    "                     '6 Month Payment Delay', '7 Month Payment Delay',\n",
    "                     '8 Month Payment Delay',\n",
    "                     'Payment Delay of 9 Months or More'],inplace=True)\n",
    "df_decoded['JUN_PAYMENT_STATUS'].replace([-2,-1,0,1,2,3,4,5,6,7,8,9],\n",
    "                    ['No Consumption','Paid in Full',\n",
    "                     'Used Revolving Credit', '1 Month Payment Delay',\n",
    "                     '2 Month Payment Delay', '3 Month Payment Delay',\n",
    "                     '4 Month Payment Delay', '5 Month Payment Delay',\n",
    "                     '6 Month Payment Delay', '7 Month Payment Delay',\n",
    "                     '8 Month Payment Delay',\n",
    "                     'Payment Delay of 9 Months or More'],inplace=True)\n",
    "df_decoded['MAY_PAYMENT_STATUS'].replace([-2,-1,0,1,2,3,4,5,6,7,8,9],\n",
    "                    ['No Consumption','Paid in Full',\n",
    "                     'Used Revolving Credit', '1 Month Payment Delay',\n",
    "                     '2 Month Payment Delay', '3 Month Payment Delay',\n",
    "                     '4 Month Payment Delay', '5 Month Payment Delay',\n",
    "                     '6 Month Payment Delay', '7 Month Payment Delay',\n",
    "                     '8 Month Payment Delay',\n",
    "                     'Payment Delay of 9 Months or More'],inplace=True)\n",
    "df_decoded['APR_PAYMENT_STATUS'].replace([-2,-1,0,1,2,3,4,5,6,7,8,9],\n",
    "                    ['No Consumption','Paid in Full',\n",
    "                     'Used Revolving Credit', '1 Month Payment Delay',\n",
    "                     '2 Month Payment Delay', '3 Month Payment Delay',\n",
    "                     '4 Month Payment Delay', '5 Month Payment Delay',\n",
    "                     '6 Month Payment Delay', '7 Month Payment Delay',\n",
    "                     '8 Month Payment Delay',\n",
    "                     '9 Months Payment Delay or More'],inplace=True)\n"
   ]
  },
  {
   "cell_type": "code",
   "execution_count": 146,
   "metadata": {},
   "outputs": [
    {
     "data": {
      "text/html": [
       "<div>\n",
       "<style scoped>\n",
       "    .dataframe tbody tr th:only-of-type {\n",
       "        vertical-align: middle;\n",
       "    }\n",
       "\n",
       "    .dataframe tbody tr th {\n",
       "        vertical-align: top;\n",
       "    }\n",
       "\n",
       "    .dataframe thead th {\n",
       "        text-align: right;\n",
       "    }\n",
       "</style>\n",
       "<table border=\"1\" class=\"dataframe\">\n",
       "  <thead>\n",
       "    <tr style=\"text-align: right;\">\n",
       "      <th></th>\n",
       "      <th>LIMIT_BAL</th>\n",
       "      <th>SEX</th>\n",
       "      <th>EDUCATION</th>\n",
       "      <th>MARRIAGE</th>\n",
       "      <th>AGE</th>\n",
       "      <th>SEP_PAYMENT_STATUS</th>\n",
       "      <th>AUG_PAYMENT_STATUS</th>\n",
       "      <th>JUL_PAYMENT_STATUS</th>\n",
       "      <th>JUN_PAYMENT_STATUS</th>\n",
       "      <th>MAY_PAYMENT_STATUS</th>\n",
       "      <th>...</th>\n",
       "      <th>APR_BILL</th>\n",
       "      <th>SEP_PAYMENT</th>\n",
       "      <th>AUG_PAYMENT</th>\n",
       "      <th>JUL_PAYMENT</th>\n",
       "      <th>JUN_PAYMENT</th>\n",
       "      <th>MAY_PAYMENT</th>\n",
       "      <th>APR_PAYMENT</th>\n",
       "      <th>DEFAULT_NEXT_MONTH</th>\n",
       "      <th>CUSTOMER_ENGAGEMENT</th>\n",
       "      <th>AGE_BINNED</th>\n",
       "    </tr>\n",
       "  </thead>\n",
       "  <tbody>\n",
       "    <tr>\n",
       "      <th>1</th>\n",
       "      <td>20000</td>\n",
       "      <td>Female</td>\n",
       "      <td>College</td>\n",
       "      <td>Married</td>\n",
       "      <td>24</td>\n",
       "      <td>2 Month Payment Delay</td>\n",
       "      <td>2 Month Payment Delay</td>\n",
       "      <td>Paid in Full</td>\n",
       "      <td>Paid in Full</td>\n",
       "      <td>No Consumption</td>\n",
       "      <td>...</td>\n",
       "      <td>0</td>\n",
       "      <td>0</td>\n",
       "      <td>689</td>\n",
       "      <td>0</td>\n",
       "      <td>0</td>\n",
       "      <td>0</td>\n",
       "      <td>0</td>\n",
       "      <td>Yes</td>\n",
       "      <td>Active</td>\n",
       "      <td>21-30</td>\n",
       "    </tr>\n",
       "    <tr>\n",
       "      <th>2</th>\n",
       "      <td>120000</td>\n",
       "      <td>Female</td>\n",
       "      <td>College</td>\n",
       "      <td>Single</td>\n",
       "      <td>26</td>\n",
       "      <td>Paid in Full</td>\n",
       "      <td>2 Month Payment Delay</td>\n",
       "      <td>Used Revolving Credit</td>\n",
       "      <td>Used Revolving Credit</td>\n",
       "      <td>Used Revolving Credit</td>\n",
       "      <td>...</td>\n",
       "      <td>3261</td>\n",
       "      <td>0</td>\n",
       "      <td>1000</td>\n",
       "      <td>1000</td>\n",
       "      <td>1000</td>\n",
       "      <td>0</td>\n",
       "      <td>2000</td>\n",
       "      <td>Yes</td>\n",
       "      <td>Active</td>\n",
       "      <td>21-30</td>\n",
       "    </tr>\n",
       "    <tr>\n",
       "      <th>3</th>\n",
       "      <td>90000</td>\n",
       "      <td>Female</td>\n",
       "      <td>College</td>\n",
       "      <td>Single</td>\n",
       "      <td>34</td>\n",
       "      <td>Used Revolving Credit</td>\n",
       "      <td>Used Revolving Credit</td>\n",
       "      <td>Used Revolving Credit</td>\n",
       "      <td>Used Revolving Credit</td>\n",
       "      <td>Used Revolving Credit</td>\n",
       "      <td>...</td>\n",
       "      <td>15549</td>\n",
       "      <td>1518</td>\n",
       "      <td>1500</td>\n",
       "      <td>1000</td>\n",
       "      <td>1000</td>\n",
       "      <td>1000</td>\n",
       "      <td>5000</td>\n",
       "      <td>No</td>\n",
       "      <td>Active</td>\n",
       "      <td>31-40</td>\n",
       "    </tr>\n",
       "    <tr>\n",
       "      <th>4</th>\n",
       "      <td>50000</td>\n",
       "      <td>Female</td>\n",
       "      <td>College</td>\n",
       "      <td>Married</td>\n",
       "      <td>37</td>\n",
       "      <td>Used Revolving Credit</td>\n",
       "      <td>Used Revolving Credit</td>\n",
       "      <td>Used Revolving Credit</td>\n",
       "      <td>Used Revolving Credit</td>\n",
       "      <td>Used Revolving Credit</td>\n",
       "      <td>...</td>\n",
       "      <td>29547</td>\n",
       "      <td>2000</td>\n",
       "      <td>2019</td>\n",
       "      <td>1200</td>\n",
       "      <td>1100</td>\n",
       "      <td>1069</td>\n",
       "      <td>1000</td>\n",
       "      <td>No</td>\n",
       "      <td>Active</td>\n",
       "      <td>31-40</td>\n",
       "    </tr>\n",
       "    <tr>\n",
       "      <th>5</th>\n",
       "      <td>50000</td>\n",
       "      <td>Male</td>\n",
       "      <td>College</td>\n",
       "      <td>Married</td>\n",
       "      <td>57</td>\n",
       "      <td>Paid in Full</td>\n",
       "      <td>Used Revolving Credit</td>\n",
       "      <td>Paid in Full</td>\n",
       "      <td>Used Revolving Credit</td>\n",
       "      <td>Used Revolving Credit</td>\n",
       "      <td>...</td>\n",
       "      <td>19131</td>\n",
       "      <td>2000</td>\n",
       "      <td>36681</td>\n",
       "      <td>10000</td>\n",
       "      <td>9000</td>\n",
       "      <td>689</td>\n",
       "      <td>679</td>\n",
       "      <td>No</td>\n",
       "      <td>Active</td>\n",
       "      <td>51-60</td>\n",
       "    </tr>\n",
       "  </tbody>\n",
       "</table>\n",
       "<p>5 rows × 26 columns</p>\n",
       "</div>"
      ],
      "text/plain": [
       "0  LIMIT_BAL     SEX EDUCATION MARRIAGE  AGE     SEP_PAYMENT_STATUS  \\\n",
       "1      20000  Female   College  Married   24  2 Month Payment Delay   \n",
       "2     120000  Female   College   Single   26           Paid in Full   \n",
       "3      90000  Female   College   Single   34  Used Revolving Credit   \n",
       "4      50000  Female   College  Married   37  Used Revolving Credit   \n",
       "5      50000    Male   College  Married   57           Paid in Full   \n",
       "\n",
       "0     AUG_PAYMENT_STATUS     JUL_PAYMENT_STATUS     JUN_PAYMENT_STATUS  \\\n",
       "1  2 Month Payment Delay           Paid in Full           Paid in Full   \n",
       "2  2 Month Payment Delay  Used Revolving Credit  Used Revolving Credit   \n",
       "3  Used Revolving Credit  Used Revolving Credit  Used Revolving Credit   \n",
       "4  Used Revolving Credit  Used Revolving Credit  Used Revolving Credit   \n",
       "5  Used Revolving Credit           Paid in Full  Used Revolving Credit   \n",
       "\n",
       "0     MAY_PAYMENT_STATUS  ... APR_BILL  SEP_PAYMENT  AUG_PAYMENT  JUL_PAYMENT  \\\n",
       "1         No Consumption  ...        0            0          689            0   \n",
       "2  Used Revolving Credit  ...     3261            0         1000         1000   \n",
       "3  Used Revolving Credit  ...    15549         1518         1500         1000   \n",
       "4  Used Revolving Credit  ...    29547         2000         2019         1200   \n",
       "5  Used Revolving Credit  ...    19131         2000        36681        10000   \n",
       "\n",
       "0  JUN_PAYMENT  MAY_PAYMENT  APR_PAYMENT  DEFAULT_NEXT_MONTH  \\\n",
       "1            0            0            0                 Yes   \n",
       "2         1000            0         2000                 Yes   \n",
       "3         1000         1000         5000                  No   \n",
       "4         1100         1069         1000                  No   \n",
       "5         9000          689          679                  No   \n",
       "\n",
       "0  CUSTOMER_ENGAGEMENT  AGE_BINNED  \n",
       "1               Active       21-30  \n",
       "2               Active       21-30  \n",
       "3               Active       31-40  \n",
       "4               Active       31-40  \n",
       "5               Active       51-60  \n",
       "\n",
       "[5 rows x 26 columns]"
      ]
     },
     "execution_count": 146,
     "metadata": {},
     "output_type": "execute_result"
    }
   ],
   "source": [
    "df_decoded.head()"
   ]
  },
  {
   "cell_type": "code",
   "execution_count": 251,
   "metadata": {},
   "outputs": [],
   "source": [
    "df_noactivity = df_decoded[df['SEP_PAYMENT_STATUS'] == 'No Consumption' ]\n",
    "df_paidinfull = df_decoded[df['SEP_PAYMENT_STATUS'] == 'Paid in Full' ]\n",
    "df_1delay = df_decoded[df['SEP_PAYMENT_STATUS'] == '1 Month Payment Delay' ]\n",
    "df_2delay = df_decoded[df['SEP_PAYMENT_STATUS'] == '2 Month Payment Delay' ]\n",
    "df_3delay = df_decoded[df['SEP_PAYMENT_STATUS'] == '3 Month Payment Delay' ]\n",
    "df_4delay = df_decoded[df['SEP_PAYMENT_STATUS'] == '4 Month Payment Delay' ]\n",
    "df_5delay = df_decoded[df['SEP_PAYMENT_STATUS'] == '5 Month Payment Delay' ]\n",
    "df_6delay = df_decoded[df['SEP_PAYMENT_STATUS'] == '6 Month Payment Delay' ]\n",
    "df_7delay = df_decoded[df['SEP_PAYMENT_STATUS'] == '7 Month Payment Delay' ]\n",
    "df_8delay = df_decoded[df['SEP_PAYMENT_STATUS'] == '8 Month Payment Delay' ]"
   ]
  },
  {
   "cell_type": "code",
   "execution_count": 309,
   "metadata": {},
   "outputs": [
    {
     "data": {
      "image/png": "[encoded data removed]",
      "text/plain": [
       "<Figure size 432x288 with 1 Axes>"
      ]
     },
     "metadata": {
      "needs_background": "light"
     },
     "output_type": "display_data"
    }
   ],
   "source": [
    "ax = sns.barplot(data=df_noactivity, x='DEFAULT_NEXT_MONTH',\n",
    "                 y='LIMIT_BAL', order=['Yes', 'No'],palette=\"viridis\")\n",
    "ax.set_title('Default Next Month with no September Activity')\n",
    "plt.show()"
   ]
  },
  {
   "cell_type": "code",
   "execution_count": 310,
   "metadata": {},
   "outputs": [
    {
     "data": {
      "image/png": "[encoded data removed]",
      "text/plain": [
       "<Figure size 432x288 with 1 Axes>"
      ]
     },
     "metadata": {
      "needs_background": "light"
     },
     "output_type": "display_data"
    }
   ],
   "source": [
    "ax = sns.barplot(data=df_paidinfull, x='DEFAULT_NEXT_MONTH',\n",
    "                 y='LIMIT_BAL', order=['Yes', 'No'], palette=\"viridis\")\n",
    "ax.set_title('Default Next Month Paid Amount Due in September')\n",
    "plt.show()"
   ]
  },
  {
   "cell_type": "code",
   "execution_count": 311,
   "metadata": {},
   "outputs": [
    {
     "data": {
      "image/png": "[encoded data removed]",
      "text/plain": [
       "<Figure size 432x288 with 1 Axes>"
      ]
     },
     "metadata": {
      "needs_background": "light"
     },
     "output_type": "display_data"
    }
   ],
   "source": [
    "ax = sns.barplot(data=df_1delay, x='DEFAULT_NEXT_MONTH', y='LIMIT_BAL',\n",
    "                 order=['Yes', 'No'], palette=\"viridis\")\n",
    "ax.set_title('Default Next Month with 1 Month Payment Delay')\n",
    "plt.show()"
   ]
  },
  {
   "cell_type": "code",
   "execution_count": 312,
   "metadata": {},
   "outputs": [
    {
     "data": {
      "image/png": "[encoded data removed]",
      "text/plain": [
       "<Figure size 432x288 with 1 Axes>"
      ]
     },
     "metadata": {
      "needs_background": "light"
     },
     "output_type": "display_data"
    }
   ],
   "source": [
    "ax = sns.barplot(data=df_2delay, x='DEFAULT_NEXT_MONTH', y='LIMIT_BAL', \n",
    "                 order=['Yes', 'No'], palette=\"viridis\")\n",
    "ax.set_title('Default Next Month with 2 Month Payment Delay')\n",
    "plt.show()"
   ]
  },
  {
   "cell_type": "code",
   "execution_count": 313,
   "metadata": {},
   "outputs": [
    {
     "data": {
      "image/png": "[encoded data removed]",
      "text/plain": [
       "<Figure size 432x288 with 1 Axes>"
      ]
     },
     "metadata": {
      "needs_background": "light"
     },
     "output_type": "display_data"
    }
   ],
   "source": [
    "ax = sns.barplot(data=df_3delay, x='DEFAULT_NEXT_MONTH', y='LIMIT_BAL', \n",
    "                 order=['Yes', 'No'], palette=\"viridis\")\n",
    "ax.set_title('Default Next Month with 3 Month Payment Delay')\n",
    "\n",
    "plt.show()"
   ]
  },
  {
   "cell_type": "code",
   "execution_count": 314,
   "metadata": {},
   "outputs": [
    {
     "data": {
      "image/png": "[encoded data removed]",
      "text/plain": [
       "<Figure size 432x288 with 1 Axes>"
      ]
     },
     "metadata": {
      "needs_background": "light"
     },
     "output_type": "display_data"
    }
   ],
   "source": [
    "ax = sns.barplot(data=df_4delay, x='DEFAULT_NEXT_MONTH', y='LIMIT_BAL',\n",
    "                 order=['Yes', 'No'], palette=\"viridis\")\n",
    "ax.set_title('Default Next Month with 4 Month Payment Delay')\n",
    "plt.show()"
   ]
  },
  {
   "cell_type": "code",
   "execution_count": 315,
   "metadata": {},
   "outputs": [
    {
     "data": {
      "image/png": "[encoded data removed]",
      "text/plain": [
       "<Figure size 432x288 with 1 Axes>"
      ]
     },
     "metadata": {
      "needs_background": "light"
     },
     "output_type": "display_data"
    }
   ],
   "source": [
    "ax = sns.barplot(data=df_5delay, x='DEFAULT_NEXT_MONTH', y='LIMIT_BAL',\n",
    "                 order=['Yes', 'No'], palette=\"viridis\")\n",
    "ax.set_title('Default Next Month with 5 Month Payment Delay')\n",
    "plt.show()"
   ]
  },
  {
   "cell_type": "code",
   "execution_count": 316,
   "metadata": {},
   "outputs": [
    {
     "data": {
      "image/png": "[encoded data removed]",
      "text/plain": [
       "<Figure size 432x288 with 1 Axes>"
      ]
     },
     "metadata": {
      "needs_background": "light"
     },
     "output_type": "display_data"
    }
   ],
   "source": [
    "ax = sns.barplot(data=df_6delay, x='DEFAULT_NEXT_MONTH', y='LIMIT_BAL', \n",
    "                 order=['Yes', 'No'], palette=\"viridis\")\n",
    "ax.set_title('Default Next Month with 6 Month Payment Delay')\n",
    "plt.show()"
   ]
  },
  {
   "cell_type": "code",
   "execution_count": 317,
   "metadata": {},
   "outputs": [
    {
     "data": {
      "image/png": "[encoded data removed]",
      "text/plain": [
       "<Figure size 432x288 with 1 Axes>"
      ]
     },
     "metadata": {
      "needs_background": "light"
     },
     "output_type": "display_data"
    }
   ],
   "source": [
    "ax = sns.barplot(data=df_7delay, x='DEFAULT_NEXT_MONTH', y='LIMIT_BAL',\n",
    "                 order=['Yes', 'No'], palette=\"viridis\")\n",
    "ax.set_title('Default Next Month with 7 Month Payment Delay')\n",
    "plt.show()"
   ]
  },
  {
   "cell_type": "code",
   "execution_count": 318,
   "metadata": {},
   "outputs": [
    {
     "data": {
      "image/png": "[encoded data removed]",
      "text/plain": [
       "<Figure size 432x288 with 1 Axes>"
      ]
     },
     "metadata": {
      "needs_background": "light"
     },
     "output_type": "display_data"
    }
   ],
   "source": [
    "ax = sns.barplot(data=df_8delay, x='DEFAULT_NEXT_MONTH', y='LIMIT_BAL', \n",
    "                 order=['Yes', 'No'], palette=\"viridis\")\n",
    "ax.set_title('Default Next Month with 8 Month Payment Delay')\n",
    "plt.show()"
   ]
  },
  {
   "cell_type": "code",
   "execution_count": 320,
   "metadata": {},
   "outputs": [
    {
     "data": {
      "image/png": "[encoded data removed]",
      "text/plain": [
       "<Figure size 432x288 with 1 Axes>"
      ]
     },
     "metadata": {
      "needs_background": "light"
     },
     "output_type": "display_data"
    }
   ],
   "source": [
    "sns.countplot(data=df_decoded, y='SEP_PAYMENT_STATUS', palette=\"viridis\",\n",
    "             order = df_decoded['SEP_PAYMENT_STATUS'].value_counts().index)\n",
    "plt.show()"
   ]
  },
  {
   "cell_type": "code",
   "execution_count": 324,
   "metadata": {
    "scrolled": true
   },
   "outputs": [
    {
     "data": {
      "image/png": "[encoded data removed]",
      "text/plain": [
       "<Figure size 432x288 with 1 Axes>"
      ]
     },
     "metadata": {
      "needs_background": "light"
     },
     "output_type": "display_data"
    }
   ],
   "source": [
    "ax = sns.countplot(data=df_decoded, x='EDUCATION', order=['Other', 'High School', 'College', 'Graduate School'])\n",
    "ax.set_title('Number of Clients by Education')\n",
    "plt.show()"
   ]
  },
  {
   "cell_type": "code",
   "execution_count": 325,
   "metadata": {},
   "outputs": [
    {
     "data": {
      "image/png": "[encoded data removed]",
      "text/plain": [
       "<Figure size 432x288 with 1 Axes>"
      ]
     },
     "metadata": {
      "needs_background": "light"
     },
     "output_type": "display_data"
    }
   ],
   "source": [
    "ax = sns.barplot(data=df_decoded, x='DEFAULT_NEXT_MONTH', y='LIMIT_BAL')\n",
    "ax.set_title('Default Risk')\n",
    "plt.show()"
   ]
  },
  {
   "cell_type": "code",
   "execution_count": 147,
   "metadata": {},
   "outputs": [
    {
     "name": "stdout",
     "output_type": "stream",
     "text": [
      "There are a total of 30000 credit card clients\n"
     ]
    }
   ],
   "source": [
    "print(f'There are a total of {len(df_decoded)} credit card clients')"
   ]
  },
  {
   "cell_type": "code",
   "execution_count": 148,
   "metadata": {},
   "outputs": [
    {
     "data": {
      "image/png": "[encoded data removed]",
      "text/plain": [
       "<Figure size 432x288 with 1 Axes>"
      ]
     },
     "metadata": {
      "needs_background": "light"
     },
     "output_type": "display_data"
    }
   ],
   "source": [
    "# Overall plots\n",
    "ax0 = sns.countplot(x=\"SEX\", data=df_decoded)\n",
    "ax0.set(xlabel='Gender', title='Our Credit Card Clients by Gender')\n",
    "plt.show()\n"
   ]
  },
  {
   "cell_type": "code",
   "execution_count": 149,
   "metadata": {},
   "outputs": [
    {
     "data": {
      "image/png": "[encoded data removed]",
      "text/plain": [
       "<Figure size 432x288 with 1 Axes>"
      ]
     },
     "metadata": {
      "needs_background": "light"
     },
     "output_type": "display_data"
    }
   ],
   "source": [
    "ax1 = sns.histplot(data=df_decoded, x=\"AGE_BINNED\")\n",
    "ax1.set(xlabel='Age Group', ylabel='Active Users', \n",
    "       title='Clients by Age Group')\n",
    "plt.show()"
   ]
  },
  {
   "cell_type": "code",
   "execution_count": 150,
   "metadata": {},
   "outputs": [
    {
     "data": {
      "image/png": "[encoded data removed]",
      "text/plain": [
       "<Figure size 432x288 with 1 Axes>"
      ]
     },
     "metadata": {
      "needs_background": "light"
     },
     "output_type": "display_data"
    }
   ],
   "source": [
    "ax2 = sns.histplot(df_decoded['LIMIT_BAL'],kde=True, color=\"green\")\n",
    "ax2.set(xlabel='Credit Limit', ylabel='Number of Clients', \n",
    "       title='Credit Limit')\n",
    "plt.show()"
   ]
  },
  {
   "cell_type": "code",
   "execution_count": 151,
   "metadata": {},
   "outputs": [
    {
     "data": {
      "image/png": "[encoded data removed]",
      "text/plain": [
       "<Figure size 432x288 with 1 Axes>"
      ]
     },
     "metadata": {
      "needs_background": "light"
     },
     "output_type": "display_data"
    }
   ],
   "source": [
    "# Default and Nondefault Count\n",
    "ax3 = sns.countplot(x=\"DEFAULT_NEXT_MONTH\", data=df_decoded)\n",
    "ax3.set(xlabel='Default - Classification', ylabel='Clients',\n",
    "       title='Defaulting and Nondefault Clients Count')\n",
    "plt.show()"
   ]
  },
  {
   "cell_type": "code",
   "execution_count": 162,
   "metadata": {
    "scrolled": true
   },
   "outputs": [
    {
     "data": {
      "image/png": "[encoded data removed]",
      "text/plain": [
       "<Figure size 432x288 with 1 Axes>"
      ]
     },
     "metadata": {
      "needs_background": "light"
     },
     "output_type": "display_data"
    }
   ],
   "source": [
    "ax4 = sns.countplot(x=\"CUSTOMER_ENGAGEMENT\", data=df_decoded)\n",
    "ax4.set(xlabel='Customer Engagement', title='Credit Card Use from April - September')\n",
    "plt.show()"
   ]
  },
  {
   "cell_type": "code",
   "execution_count": 163,
   "metadata": {},
   "outputs": [
    {
     "name": "stdout",
     "output_type": "stream",
     "text": [
      "93.0% (27891) of our clients are active.\n"
     ]
    }
   ],
   "source": [
    "print(f'{round((len(df_active)/len(df_decoded))*100,1)}% ({len(df_active)}) of our clients are active.')"
   ]
  },
  {
   "cell_type": "code",
   "execution_count": 164,
   "metadata": {},
   "outputs": [],
   "source": [
    "df_active = df.loc[(df['CUSTOMER_ENGAGEMENT'] == \"Active\")]"
   ]
  },
  {
   "cell_type": "code",
   "execution_count": 154,
   "metadata": {},
   "outputs": [
    {
     "data": {
      "image/png": "[encoded data removed]",
      "text/plain": [
       "<Figure size 432x288 with 1 Axes>"
      ]
     },
     "metadata": {
      "needs_background": "light"
     },
     "output_type": "display_data"
    }
   ],
   "source": [
    "# Overall plots\n",
    "ax5 = sns.countplot(x=\"SEX\", data=df_active)\n",
    "ax5.set(xlabel='Gender', title='Our Active Credit Card Clients by Gender')\n",
    "plt.show()"
   ]
  },
  {
   "cell_type": "code",
   "execution_count": 155,
   "metadata": {},
   "outputs": [
    {
     "data": {
      "image/png": "[encoded data removed]",
      "text/plain": [
       "<Figure size 432x288 with 1 Axes>"
      ]
     },
     "metadata": {
      "needs_background": "light"
     },
     "output_type": "display_data"
    }
   ],
   "source": [
    "ax6 = sns.histplot(data=df_active, x=\"AGE_BINNED\")\n",
    "ax6.set(xlabel='Age Group', ylabel='Active Users', \n",
    "       title='Active Clients by Age Group')\n",
    "plt.show()"
   ]
  },
  {
   "cell_type": "code",
   "execution_count": 156,
   "metadata": {},
   "outputs": [
    {
     "data": {
      "image/png": "[encoded data removed]",
      "text/plain": [
       "<Figure size 432x288 with 1 Axes>"
      ]
     },
     "metadata": {
      "needs_background": "light"
     },
     "output_type": "display_data"
    }
   ],
   "source": [
    "ax7 = sns.histplot(df_active['LIMIT_BAL'],kde=True, color=\"green\")\n",
    "ax7.set(xlabel='Credit Limit', ylabel='Number of Clients', \n",
    "       title='Credit Limit')\n",
    "plt.show()"
   ]
  },
  {
   "cell_type": "code",
   "execution_count": 157,
   "metadata": {},
   "outputs": [
    {
     "data": {
      "image/png": "[encoded data removed]",
      "text/plain": [
       "<Figure size 432x288 with 1 Axes>"
      ]
     },
     "metadata": {
      "needs_background": "light"
     },
     "output_type": "display_data"
    }
   ],
   "source": [
    "# Default and Nondefault Count\n",
    "ax8 = sns.countplot(x=\"DEFAULT_NEXT_MONTH\", data=df_active)\n",
    "ax8.set(xlabel='Default - Classification', ylabel='Clients',\n",
    "       title='Defaulting and Nondefault Active Clients Count')\n",
    "plt.show()"
   ]
  },
  {
   "cell_type": "code",
   "execution_count": 158,
   "metadata": {},
   "outputs": [
    {
     "data": {
      "image/png": "[encoded data removed]",
      "text/plain": [
       "<Figure size 432x288 with 1 Axes>"
      ]
     },
     "metadata": {
      "needs_background": "light"
     },
     "output_type": "display_data"
    }
   ],
   "source": [
    "ax9 = sns.histplot(data=df_active, x=\"AGE_BINNED\", hue=\"DEFAULT_NEXT_MONTH\" )\n",
    "ax9.set(xlabel='Age Group', ylabel='Active Users', \n",
    "       title='Default Classification by Age Group')\n",
    "plt.show()"
   ]
  },
  {
   "cell_type": "code",
   "execution_count": 159,
   "metadata": {
    "scrolled": true
   },
   "outputs": [
    {
     "data": {
      "image/png": "[encoded data removed]",
      "text/plain": [
       "<Figure size 216x432 with 2 Axes>"
      ]
     },
     "metadata": {
      "needs_background": "light"
     },
     "output_type": "display_data"
    }
   ],
   "source": [
    "\n",
    "g = sns.FacetGrid(df, row='DEFAULT_NEXT_MONTH')\n",
    "g = g.map(plt.hist, 'AGE', color='green')\n",
    "plt.show()"
   ]
  },
  {
   "cell_type": "code",
   "execution_count": 160,
   "metadata": {},
   "outputs": [
    {
     "data": {
      "image/png": "[encoded data removed]",
      "text/plain": [
       "<Figure size 864x432 with 8 Axes>"
      ]
     },
     "metadata": {
      "needs_background": "light"
     },
     "output_type": "display_data"
    }
   ],
   "source": [
    "g = sns.FacetGrid(df, row='DEFAULT_NEXT_MONTH', col='MARRIAGE')\n",
    "g = g.map(plt.hist, 'AGE', color='green')\n",
    "plt.show()"
   ]
  },
  {
   "cell_type": "markdown",
   "metadata": {},
   "source": [
    "For single customers, the risk of defaulting decreases at age 40. For married customers, the rish of defaulting decreases sharply at age 30."
   ]
  },
  {
   "cell_type": "code",
   "execution_count": 161,
   "metadata": {},
   "outputs": [
    {
     "data": {
      "image/png": "[encoded data removed]",
      "text/plain": [
       "<Figure size 432x432 with 4 Axes>"
      ]
     },
     "metadata": {
      "needs_background": "light"
     },
     "output_type": "display_data"
    }
   ],
   "source": [
    "g = sns.FacetGrid(df, row='DEFAULT_NEXT_MONTH', col='SEX')\n",
    "g = g.map(plt.hist, 'AGE', color='green')\n",
    "plt.show()"
   ]
  },
  {
   "cell_type": "code",
   "execution_count": 130,
   "metadata": {},
   "outputs": [
    {
     "data": {
      "text/plain": [
       "No     77.225628\n",
       "Yes    22.774372\n",
       "Name: DEFAULT_NEXT_MONTH, dtype: float64"
      ]
     },
     "execution_count": 130,
     "metadata": {},
     "output_type": "execute_result"
    }
   ],
   "source": [
    "df_active.DEFAULT_NEXT_MONTH.value_counts(normalize=True)*100"
   ]
  },
  {
   "cell_type": "code",
   "execution_count": 165,
   "metadata": {},
   "outputs": [
    {
     "data": {
      "image/png": "[encoded data removed]",
      "text/plain": [
       "<Figure size 216x432 with 2 Axes>"
      ]
     },
     "metadata": {
      "needs_background": "light"
     },
     "output_type": "display_data"
    }
   ],
   "source": [
    "g = sns.FacetGrid(df, row='DEFAULT_NEXT_MONTH')\n",
    "g = g.map(plt.hist, 'AGE', color='green')\n",
    "plt.show()"
   ]
  },
  {
   "cell_type": "code",
   "execution_count": 129,
   "metadata": {},
   "outputs": [
    {
     "name": "stdout",
     "output_type": "stream",
     "text": [
      "Cost in September from defaults 21.0%\n"
     ]
    }
   ],
   "source": [
    "# Cost of defaulting\n",
    "default_cost = df_active[(df_active['DEFAULT_NEXT_MONTH'] == 'Yes')]['SEP_BILL'].sum()\n",
    "\n",
    "sep_bill_sum = df_active['SEP_BILL'].sum()\n",
    "\n",
    "# # Percent of sep company income\n",
    "print(f'Cost in September from defaults {round((default_cost/sep_bill_sum)*100,0)}%')\n"
   ]
  }
 ],
 "metadata": {
  "kernelspec": {
   "display_name": "Python 3",
   "language": "python",
   "name": "python3"
  },
  "language_info": {
   "codemirror_mode": {
    "name": "ipython",
    "version": 3
   },
   "file_extension": ".py",
   "mimetype": "text/x-python",
   "name": "python",
   "nbconvert_exporter": "python",
   "pygments_lexer": "ipython3",
   "version": "3.8.3"
  }
 },
 "nbformat": 4,
 "nbformat_minor": 4
}
